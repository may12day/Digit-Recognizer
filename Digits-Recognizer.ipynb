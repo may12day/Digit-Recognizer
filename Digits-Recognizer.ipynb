{
 "cells": [
  {
   "cell_type": "code",
   "execution_count": 4,
   "metadata": {},
   "outputs": [],
   "source": [
    "import pandas as pd\n",
    "import numpy as np\n",
    "import matplotlib.pyplot as plt\n",
    "%matplotlib inline"
   ]
  },
  {
   "cell_type": "code",
   "execution_count": 5,
   "metadata": {},
   "outputs": [],
   "source": [
    "train_data_origin=pd.read_csv(\"train.csv\")\n",
    "test_data_origin=pd.read_csv(\"test.csv\")"
   ]
  },
  {
   "cell_type": "code",
   "execution_count": 6,
   "metadata": {},
   "outputs": [
    {
     "data": {
      "text/html": [
       "<div>\n",
       "<style scoped>\n",
       "    .dataframe tbody tr th:only-of-type {\n",
       "        vertical-align: middle;\n",
       "    }\n",
       "\n",
       "    .dataframe tbody tr th {\n",
       "        vertical-align: top;\n",
       "    }\n",
       "\n",
       "    .dataframe thead th {\n",
       "        text-align: right;\n",
       "    }\n",
       "</style>\n",
       "<table border=\"1\" class=\"dataframe\">\n",
       "  <thead>\n",
       "    <tr style=\"text-align: right;\">\n",
       "      <th></th>\n",
       "      <th>label</th>\n",
       "      <th>pixel0</th>\n",
       "      <th>pixel1</th>\n",
       "      <th>pixel2</th>\n",
       "      <th>pixel3</th>\n",
       "      <th>pixel4</th>\n",
       "      <th>pixel5</th>\n",
       "      <th>pixel6</th>\n",
       "      <th>pixel7</th>\n",
       "      <th>pixel8</th>\n",
       "      <th>...</th>\n",
       "      <th>pixel774</th>\n",
       "      <th>pixel775</th>\n",
       "      <th>pixel776</th>\n",
       "      <th>pixel777</th>\n",
       "      <th>pixel778</th>\n",
       "      <th>pixel779</th>\n",
       "      <th>pixel780</th>\n",
       "      <th>pixel781</th>\n",
       "      <th>pixel782</th>\n",
       "      <th>pixel783</th>\n",
       "    </tr>\n",
       "  </thead>\n",
       "  <tbody>\n",
       "    <tr>\n",
       "      <th>0</th>\n",
       "      <td>1</td>\n",
       "      <td>0</td>\n",
       "      <td>0</td>\n",
       "      <td>0</td>\n",
       "      <td>0</td>\n",
       "      <td>0</td>\n",
       "      <td>0</td>\n",
       "      <td>0</td>\n",
       "      <td>0</td>\n",
       "      <td>0</td>\n",
       "      <td>...</td>\n",
       "      <td>0</td>\n",
       "      <td>0</td>\n",
       "      <td>0</td>\n",
       "      <td>0</td>\n",
       "      <td>0</td>\n",
       "      <td>0</td>\n",
       "      <td>0</td>\n",
       "      <td>0</td>\n",
       "      <td>0</td>\n",
       "      <td>0</td>\n",
       "    </tr>\n",
       "    <tr>\n",
       "      <th>1</th>\n",
       "      <td>0</td>\n",
       "      <td>0</td>\n",
       "      <td>0</td>\n",
       "      <td>0</td>\n",
       "      <td>0</td>\n",
       "      <td>0</td>\n",
       "      <td>0</td>\n",
       "      <td>0</td>\n",
       "      <td>0</td>\n",
       "      <td>0</td>\n",
       "      <td>...</td>\n",
       "      <td>0</td>\n",
       "      <td>0</td>\n",
       "      <td>0</td>\n",
       "      <td>0</td>\n",
       "      <td>0</td>\n",
       "      <td>0</td>\n",
       "      <td>0</td>\n",
       "      <td>0</td>\n",
       "      <td>0</td>\n",
       "      <td>0</td>\n",
       "    </tr>\n",
       "    <tr>\n",
       "      <th>2</th>\n",
       "      <td>1</td>\n",
       "      <td>0</td>\n",
       "      <td>0</td>\n",
       "      <td>0</td>\n",
       "      <td>0</td>\n",
       "      <td>0</td>\n",
       "      <td>0</td>\n",
       "      <td>0</td>\n",
       "      <td>0</td>\n",
       "      <td>0</td>\n",
       "      <td>...</td>\n",
       "      <td>0</td>\n",
       "      <td>0</td>\n",
       "      <td>0</td>\n",
       "      <td>0</td>\n",
       "      <td>0</td>\n",
       "      <td>0</td>\n",
       "      <td>0</td>\n",
       "      <td>0</td>\n",
       "      <td>0</td>\n",
       "      <td>0</td>\n",
       "    </tr>\n",
       "    <tr>\n",
       "      <th>3</th>\n",
       "      <td>4</td>\n",
       "      <td>0</td>\n",
       "      <td>0</td>\n",
       "      <td>0</td>\n",
       "      <td>0</td>\n",
       "      <td>0</td>\n",
       "      <td>0</td>\n",
       "      <td>0</td>\n",
       "      <td>0</td>\n",
       "      <td>0</td>\n",
       "      <td>...</td>\n",
       "      <td>0</td>\n",
       "      <td>0</td>\n",
       "      <td>0</td>\n",
       "      <td>0</td>\n",
       "      <td>0</td>\n",
       "      <td>0</td>\n",
       "      <td>0</td>\n",
       "      <td>0</td>\n",
       "      <td>0</td>\n",
       "      <td>0</td>\n",
       "    </tr>\n",
       "    <tr>\n",
       "      <th>4</th>\n",
       "      <td>0</td>\n",
       "      <td>0</td>\n",
       "      <td>0</td>\n",
       "      <td>0</td>\n",
       "      <td>0</td>\n",
       "      <td>0</td>\n",
       "      <td>0</td>\n",
       "      <td>0</td>\n",
       "      <td>0</td>\n",
       "      <td>0</td>\n",
       "      <td>...</td>\n",
       "      <td>0</td>\n",
       "      <td>0</td>\n",
       "      <td>0</td>\n",
       "      <td>0</td>\n",
       "      <td>0</td>\n",
       "      <td>0</td>\n",
       "      <td>0</td>\n",
       "      <td>0</td>\n",
       "      <td>0</td>\n",
       "      <td>0</td>\n",
       "    </tr>\n",
       "  </tbody>\n",
       "</table>\n",
       "<p>5 rows × 785 columns</p>\n",
       "</div>"
      ],
      "text/plain": [
       "   label  pixel0  pixel1  pixel2  pixel3  pixel4  pixel5  pixel6  pixel7  \\\n",
       "0      1       0       0       0       0       0       0       0       0   \n",
       "1      0       0       0       0       0       0       0       0       0   \n",
       "2      1       0       0       0       0       0       0       0       0   \n",
       "3      4       0       0       0       0       0       0       0       0   \n",
       "4      0       0       0       0       0       0       0       0       0   \n",
       "\n",
       "   pixel8    ...     pixel774  pixel775  pixel776  pixel777  pixel778  \\\n",
       "0       0    ...            0         0         0         0         0   \n",
       "1       0    ...            0         0         0         0         0   \n",
       "2       0    ...            0         0         0         0         0   \n",
       "3       0    ...            0         0         0         0         0   \n",
       "4       0    ...            0         0         0         0         0   \n",
       "\n",
       "   pixel779  pixel780  pixel781  pixel782  pixel783  \n",
       "0         0         0         0         0         0  \n",
       "1         0         0         0         0         0  \n",
       "2         0         0         0         0         0  \n",
       "3         0         0         0         0         0  \n",
       "4         0         0         0         0         0  \n",
       "\n",
       "[5 rows x 785 columns]"
      ]
     },
     "execution_count": 6,
     "metadata": {},
     "output_type": "execute_result"
    }
   ],
   "source": [
    "train_data_origin.head()"
   ]
  },
  {
   "cell_type": "code",
   "execution_count": 7,
   "metadata": {},
   "outputs": [
    {
     "name": "stdout",
     "output_type": "stream",
     "text": [
      "Train: X = (42000, 785)\n",
      "Test: X = (28000, 784)\n"
     ]
    }
   ],
   "source": [
    "print(\"Train: X =\",train_data_origin.shape)\n",
    "print(\"Test: X =\",test_data_origin.shape)"
   ]
  },
  {
   "cell_type": "code",
   "execution_count": 8,
   "metadata": {},
   "outputs": [],
   "source": [
    "train_features,train_labels = train_data_origin.drop(\"label\",axis=1).values.astype('float32'),train_data_origin[\"label\"].values.astype('int32') \n",
    "test_features = test_data_origin.values.astype('float32')"
   ]
  },
  {
   "cell_type": "code",
   "execution_count": 9,
   "metadata": {},
   "outputs": [
    {
     "name": "stdout",
     "output_type": "stream",
     "text": [
      "Train: X = (42000, 784) Y = (42000,)\n",
      "Test: X = (28000, 784)\n"
     ]
    }
   ],
   "source": [
    "print(\"Train: X =\",train_features.shape,\"Y =\",train_labels.shape)\n",
    "print(\"Test: X =\",test_features.shape)"
   ]
  },
  {
   "cell_type": "code",
   "execution_count": 10,
   "metadata": {},
   "outputs": [
    {
     "data": {
      "image/png": "[encoded data removed]",
      "text/plain": [
       "<Figure size 432x288 with 3 Axes>"
      ]
     },
     "metadata": {
      "needs_background": "light"
     },
     "output_type": "display_data"
    },
    {
     "data": {
      "image/png": "[encoded data removed]",
      "text/plain": [
       "<Figure size 432x288 with 3 Axes>"
      ]
     },
     "metadata": {
      "needs_background": "light"
     },
     "output_type": "display_data"
    }
   ],
   "source": [
    "import random\n",
    "train_features_images=train_features.reshape(train_features.shape[0],28,28)\n",
    "test_features_images=test_features.reshape(test_features.shape[0],28,28)\n",
    "\n",
    "def show_images(features_images,labels,length):\n",
    "    start=42\n",
    "    for i in range(start, start+length):\n",
    "        plt.subplot(330 + (i+1))\n",
    "        plt.imshow(features_images[i], cmap=plt.get_cmap('gray'))\n",
    "        plt.title(labels[i])\n",
    "    plt.show()\n",
    "        \n",
    "show_images(train_features_images,train_labels,3)\n",
    "show_images(test_features_images,np.zeros(test_features_images.shape[0]),3)"
   ]
  },
  {
   "cell_type": "code",
   "execution_count": 11,
   "metadata": {},
   "outputs": [],
   "source": [
    "mean_px = train_features.mean().astype(np.float32)\n",
    "std_px = train_features.std().astype(np.float32)\n",
    "\n",
    "def standardize(x): \n",
    "    return (x-mean_px)/std_px\n",
    "\n",
    "train_features_norm=standardize(train_features)\n",
    "test_features_norm=standardize(test_features)"
   ]
  },
  {
   "cell_type": "code",
   "execution_count": 12,
   "metadata": {},
   "outputs": [
    {
     "data": {
      "text/plain": [
       "array([[-0.4246309, -0.4246309, -0.4246309, ..., -0.4246309, -0.4246309,\n",
       "        -0.4246309],\n",
       "       [-0.4246309, -0.4246309, -0.4246309, ..., -0.4246309, -0.4246309,\n",
       "        -0.4246309],\n",
       "       [-0.4246309, -0.4246309, -0.4246309, ..., -0.4246309, -0.4246309,\n",
       "        -0.4246309],\n",
       "       [-0.4246309, -0.4246309, -0.4246309, ..., -0.4246309, -0.4246309,\n",
       "        -0.4246309],\n",
       "       [-0.4246309, -0.4246309, -0.4246309, ..., -0.4246309, -0.4246309,\n",
       "        -0.4246309]], dtype=float32)"
      ]
     },
     "execution_count": 12,
     "metadata": {},
     "output_type": "execute_result"
    }
   ],
   "source": [
    "train_features_norm[:5]"
   ]
  },
  {
   "cell_type": "code",
   "execution_count": 13,
   "metadata": {},
   "outputs": [],
   "source": [
    "train_features_reshaped=train_features_norm.reshape(train_features_norm.shape[0],28,28,1)\n",
    "test_features_reshaped=test_features_norm.reshape(test_features_norm.shape[0],28,28,1)\n",
    "\n",
    "train_labels_reshaped=train_labels.reshape(train_features.shape[0],1)\n",
    "train_labels_reshaped=np.eye(10)[train_labels]"
   ]
  },
  {
   "cell_type": "code",
   "execution_count": 14,
   "metadata": {},
   "outputs": [],
   "source": [
    "from sklearn.model_selection import train_test_split\n",
    "X_train, X_validation, y_train, y_validation = train_test_split(train_features_reshaped, train_labels_reshaped, test_size=0.10)\n",
    "X_test=test_features_reshaped"
   ]
  },
  {
   "cell_type": "code",
   "execution_count": 15,
   "metadata": {},
   "outputs": [
    {
     "name": "stdout",
     "output_type": "stream",
     "text": [
      "Train: X = (37800, 28, 28, 1) Y = (37800, 10)\n",
      "Validation: X = (4200, 28, 28, 1) Y = (4200, 10)\n"
     ]
    }
   ],
   "source": [
    "print(\"Train: X =\",X_train.shape,\"Y =\",y_train.shape)\n",
    "print(\"Validation: X =\",X_validation.shape,\"Y =\",y_validation.shape)"
   ]
  },
  {
   "cell_type": "code",
   "execution_count": 17,
   "metadata": {},
   "outputs": [
    {
     "name": "stderr",
     "output_type": "stream",
     "text": [
      "Using TensorFlow backend.\n"
     ]
    },
    {
     "name": "stdout",
     "output_type": "stream",
     "text": [
      "WARNING:tensorflow:From /home/mayank/anaconda3/lib/python3.7/site-packages/tensorflow/python/framework/op_def_library.py:263: colocate_with (from tensorflow.python.framework.ops) is deprecated and will be removed in a future version.\n",
      "Instructions for updating:\n",
      "Colocations handled automatically by placer.\n",
      "_________________________________________________________________\n",
      "Layer (type)                 Output Shape              Param #   \n",
      "=================================================================\n",
      "conv2d_1 (Conv2D)            (None, 28, 28, 16)        80        \n",
      "_________________________________________________________________\n",
      "max_pooling2d_1 (MaxPooling2 (None, 14, 14, 16)        0         \n",
      "_________________________________________________________________\n",
      "conv2d_2 (Conv2D)            (None, 14, 14, 32)        2080      \n",
      "_________________________________________________________________\n",
      "max_pooling2d_2 (MaxPooling2 (None, 7, 7, 32)          0         \n",
      "_________________________________________________________________\n",
      "conv2d_3 (Conv2D)            (None, 7, 7, 64)          8256      \n",
      "_________________________________________________________________\n",
      "max_pooling2d_3 (MaxPooling2 (None, 3, 3, 64)          0         \n",
      "_________________________________________________________________\n",
      "flatten_1 (Flatten)          (None, 576)               0         \n",
      "_________________________________________________________________\n",
      "dense_1 (Dense)              (None, 500)               288500    \n",
      "_________________________________________________________________\n",
      "dense_2 (Dense)              (None, 10)                5010      \n",
      "=================================================================\n",
      "Total params: 303,926\n",
      "Trainable params: 303,926\n",
      "Non-trainable params: 0\n",
      "_________________________________________________________________\n"
     ]
    }
   ],
   "source": [
    "from keras.models import Sequential\n",
    "from keras.layers import Conv2D, MaxPooling2D, Flatten, Dense\n",
    "model = Sequential()\n",
    "model.add(Conv2D(filters=16, kernel_size=2, padding='same', activation='relu', input_shape=X_train.shape[1:]))\n",
    "model.add(MaxPooling2D(pool_size=2))\n",
    "model.add(Conv2D(filters=32, kernel_size=2, padding='same', activation='relu'))\n",
    "model.add(MaxPooling2D(pool_size=2))\n",
    "model.add(Conv2D(filters=64, kernel_size=2, padding='same', activation='relu'))\n",
    "model.add(MaxPooling2D(pool_size=2))\n",
    "model.add(Flatten())\n",
    "model.add(Dense(500, activation='relu'))\n",
    "model.add(Dense(10, activation='softmax'))\n",
    "model.summary()"
   ]
  },
  {
   "cell_type": "code",
   "execution_count": 18,
   "metadata": {},
   "outputs": [],
   "source": [
    "# compile the model\n",
    "model.compile(loss='categorical_crossentropy', optimizer='rmsprop', \n",
    "                  metrics=['accuracy'])"
   ]
  },
  {
   "cell_type": "code",
   "execution_count": 19,
   "metadata": {},
   "outputs": [
    {
     "name": "stdout",
     "output_type": "stream",
     "text": [
      "WARNING:tensorflow:From /home/mayank/anaconda3/lib/python3.7/site-packages/tensorflow/python/ops/math_ops.py:3066: to_int32 (from tensorflow.python.ops.math_ops) is deprecated and will be removed in a future version.\n",
      "Instructions for updating:\n",
      "Use tf.cast instead.\n",
      "Train on 37800 samples, validate on 4200 samples\n",
      "Epoch 1/30\n",
      " - 14s - loss: 0.1843 - acc: 0.9413 - val_loss: 0.0726 - val_acc: 0.9783\n",
      "\n",
      "Epoch 00001: val_loss improved from inf to 0.07259, saving model to model.weights.best.hdf5\n",
      "Epoch 2/30\n",
      " - 13s - loss: 0.0589 - acc: 0.9817 - val_loss: 0.0722 - val_acc: 0.9790\n",
      "\n",
      "Epoch 00002: val_loss improved from 0.07259 to 0.07221, saving model to model.weights.best.hdf5\n",
      "Epoch 3/30\n",
      " - 13s - loss: 0.0432 - acc: 0.9865 - val_loss: 0.0779 - val_acc: 0.9795\n",
      "\n",
      "Epoch 00003: val_loss did not improve from 0.07221\n",
      "Epoch 4/30\n",
      " - 13s - loss: 0.0350 - acc: 0.9890 - val_loss: 0.0753 - val_acc: 0.9840\n",
      "\n",
      "Epoch 00004: val_loss did not improve from 0.07221\n",
      "Epoch 5/30\n",
      " - 13s - loss: 0.0296 - acc: 0.9913 - val_loss: 0.1493 - val_acc: 0.9738\n",
      "\n",
      "Epoch 00005: val_loss did not improve from 0.07221\n",
      "Epoch 6/30\n",
      " - 15s - loss: 0.0243 - acc: 0.9924 - val_loss: 0.0861 - val_acc: 0.9821\n",
      "\n",
      "Epoch 00006: val_loss did not improve from 0.07221\n",
      "Epoch 7/30\n",
      " - 14s - loss: 0.0219 - acc: 0.9935 - val_loss: 0.0629 - val_acc: 0.9864\n",
      "\n",
      "Epoch 00007: val_loss improved from 0.07221 to 0.06290, saving model to model.weights.best.hdf5\n",
      "Epoch 8/30\n",
      " - 13s - loss: 0.0183 - acc: 0.9948 - val_loss: 0.1262 - val_acc: 0.9786\n",
      "\n",
      "Epoch 00008: val_loss did not improve from 0.06290\n",
      "Epoch 9/30\n",
      " - 13s - loss: 0.0176 - acc: 0.9950 - val_loss: 0.0948 - val_acc: 0.9850\n",
      "\n",
      "Epoch 00009: val_loss did not improve from 0.06290\n",
      "Epoch 10/30\n",
      " - 13s - loss: 0.0161 - acc: 0.9956 - val_loss: 0.0914 - val_acc: 0.9845\n",
      "\n",
      "Epoch 00010: val_loss did not improve from 0.06290\n",
      "Epoch 11/30\n",
      " - 13s - loss: 0.0119 - acc: 0.9967 - val_loss: 0.1080 - val_acc: 0.9843\n",
      "\n",
      "Epoch 00011: val_loss did not improve from 0.06290\n",
      "Epoch 12/30\n",
      " - 13s - loss: 0.0133 - acc: 0.9962 - val_loss: 0.1170 - val_acc: 0.9826\n",
      "\n",
      "Epoch 00012: val_loss did not improve from 0.06290\n",
      "Epoch 13/30\n",
      " - 13s - loss: 0.0136 - acc: 0.9967 - val_loss: 0.1233 - val_acc: 0.9814\n",
      "\n",
      "Epoch 00013: val_loss did not improve from 0.06290\n",
      "Epoch 14/30\n",
      " - 13s - loss: 0.0121 - acc: 0.9970 - val_loss: 0.1344 - val_acc: 0.9855\n",
      "\n",
      "Epoch 00014: val_loss did not improve from 0.06290\n",
      "Epoch 15/30\n",
      " - 13s - loss: 0.0126 - acc: 0.9976 - val_loss: 0.0989 - val_acc: 0.9869\n",
      "\n",
      "Epoch 00015: val_loss did not improve from 0.06290\n",
      "Epoch 16/30\n",
      " - 13s - loss: 0.0107 - acc: 0.9979 - val_loss: 0.1085 - val_acc: 0.9850\n",
      "\n",
      "Epoch 00016: val_loss did not improve from 0.06290\n",
      "Epoch 17/30\n",
      " - 13s - loss: 0.0089 - acc: 0.9980 - val_loss: 0.1050 - val_acc: 0.9881\n",
      "\n",
      "Epoch 00017: val_loss did not improve from 0.06290\n",
      "Epoch 18/30\n",
      " - 13s - loss: 0.0109 - acc: 0.9978 - val_loss: 0.1689 - val_acc: 0.9845\n",
      "\n",
      "Epoch 00018: val_loss did not improve from 0.06290\n",
      "Epoch 19/30\n",
      " - 13s - loss: 0.0072 - acc: 0.9983 - val_loss: 0.1348 - val_acc: 0.9843\n",
      "\n",
      "Epoch 00019: val_loss did not improve from 0.06290\n",
      "Epoch 20/30\n",
      " - 13s - loss: 0.0087 - acc: 0.9983 - val_loss: 0.1287 - val_acc: 0.9867\n",
      "\n",
      "Epoch 00020: val_loss did not improve from 0.06290\n",
      "Epoch 21/30\n",
      " - 13s - loss: 0.0080 - acc: 0.9982 - val_loss: 0.1356 - val_acc: 0.9871\n",
      "\n",
      "Epoch 00021: val_loss did not improve from 0.06290\n",
      "Epoch 22/30\n",
      " - 13s - loss: 0.0083 - acc: 0.9985 - val_loss: 0.1652 - val_acc: 0.9840\n",
      "\n",
      "Epoch 00022: val_loss did not improve from 0.06290\n",
      "Epoch 23/30\n",
      " - 13s - loss: 0.0084 - acc: 0.9987 - val_loss: 0.1328 - val_acc: 0.9869\n",
      "\n",
      "Epoch 00023: val_loss did not improve from 0.06290\n",
      "Epoch 24/30\n",
      " - 13s - loss: 0.0088 - acc: 0.9985 - val_loss: 0.1439 - val_acc: 0.9857\n",
      "\n",
      "Epoch 00024: val_loss did not improve from 0.06290\n",
      "Epoch 25/30\n",
      " - 13s - loss: 0.0059 - acc: 0.9987 - val_loss: 0.1316 - val_acc: 0.9881\n",
      "\n",
      "Epoch 00025: val_loss did not improve from 0.06290\n",
      "Epoch 26/30\n",
      " - 13s - loss: 0.0054 - acc: 0.9991 - val_loss: 0.1462 - val_acc: 0.9871\n",
      "\n",
      "Epoch 00026: val_loss did not improve from 0.06290\n",
      "Epoch 27/30\n",
      " - 13s - loss: 0.0061 - acc: 0.9989 - val_loss: 0.1601 - val_acc: 0.9860\n",
      "\n",
      "Epoch 00027: val_loss did not improve from 0.06290\n",
      "Epoch 28/30\n",
      " - 13s - loss: 0.0078 - acc: 0.9988 - val_loss: 0.1648 - val_acc: 0.9855\n",
      "\n",
      "Epoch 00028: val_loss did not improve from 0.06290\n",
      "Epoch 29/30\n",
      " - 13s - loss: 0.0068 - acc: 0.9989 - val_loss: 0.1387 - val_acc: 0.9879\n",
      "\n",
      "Epoch 00029: val_loss did not improve from 0.06290\n",
      "Epoch 30/30\n",
      " - 13s - loss: 0.0064 - acc: 0.9988 - val_loss: 0.1412 - val_acc: 0.9869\n",
      "\n",
      "Epoch 00030: val_loss did not improve from 0.06290\n"
     ]
    }
   ],
   "source": [
    "from keras.callbacks import ModelCheckpoint   \n",
    "\n",
    "# train the model\n",
    "checkpointer = ModelCheckpoint(filepath='model.weights.best.hdf5', verbose=1, \n",
    "                               save_best_only=True)\n",
    "hist = model.fit(X_train, y_train, batch_size=32, epochs=30,\n",
    "          validation_data=(X_validation, y_validation), callbacks=[checkpointer], \n",
    "          verbose=2, shuffle=True)"
   ]
  },
  {
   "cell_type": "code",
   "execution_count": 20,
   "metadata": {},
   "outputs": [],
   "source": [
    "# load the weights that yielded the best validation accuracy\n",
    "model.load_weights('model.weights.best.hdf5')"
   ]
  },
  {
   "cell_type": "code",
   "execution_count": 21,
   "metadata": {},
   "outputs": [
    {
     "name": "stdout",
     "output_type": "stream",
     "text": [
      "\n",
      " Test accuracy: 0.9864285714285714\n"
     ]
    }
   ],
   "source": [
    "# evaluate and print test accuracy\n",
    "score = model.evaluate(X_validation, y_validation, verbose=0)\n",
    "print('\\n', 'Test accuracy:', score[1])"
   ]
  },
  {
   "cell_type": "code",
   "execution_count": 22,
   "metadata": {},
   "outputs": [
    {
     "data": {
      "text/plain": [
       "(28000, 28, 28, 1)"
      ]
     },
     "execution_count": 22,
     "metadata": {},
     "output_type": "execute_result"
    }
   ],
   "source": [
    "X_test.shape"
   ]
  },
  {
   "cell_type": "code",
   "execution_count": 23,
   "metadata": {},
   "outputs": [],
   "source": [
    "y_hat = model.predict(X_test)"
   ]
  },
  {
   "cell_type": "code",
   "execution_count": 24,
   "metadata": {},
   "outputs": [
    {
     "data": {
      "text/plain": [
       "array([[8.90784986e-20, 5.88800478e-18, 1.00000000e+00, 4.40129712e-15,\n",
       "        5.19046949e-22, 5.30094207e-23, 1.09562351e-23, 2.21140142e-12,\n",
       "        6.13218601e-18, 1.19990555e-16],\n",
       "       [1.00000000e+00, 5.18252384e-19, 6.84131155e-11, 7.03968421e-18,\n",
       "        3.48062971e-19, 3.19822754e-13, 1.37278935e-08, 4.70236312e-15,\n",
       "        6.95820409e-13, 1.08205840e-11],\n",
       "       [1.16892611e-16, 1.12795598e-15, 4.36271103e-10, 4.40413764e-14,\n",
       "        2.24223862e-10, 3.91538608e-15, 7.54057766e-21, 2.48166557e-11,\n",
       "        1.64849356e-09, 1.00000000e+00],\n",
       "       [9.88587365e-02, 1.31320219e-14, 4.37714306e-07, 2.89205019e-07,\n",
       "        2.68538213e-11, 1.25906423e-08, 1.44034225e-08, 7.26397664e-10,\n",
       "        1.34098300e-04, 9.01006460e-01],\n",
       "       [1.70026975e-18, 1.07061170e-14, 3.39286643e-09, 1.00000000e+00,\n",
       "        1.96843477e-22, 1.28985405e-13, 2.20530067e-21, 3.43016834e-14,\n",
       "        1.64873809e-10, 9.71855449e-14]], dtype=float32)"
      ]
     },
     "execution_count": 24,
     "metadata": {},
     "output_type": "execute_result"
    }
   ],
   "source": [
    "y_hat[:5]"
   ]
  },
  {
   "cell_type": "code",
   "execution_count": 25,
   "metadata": {},
   "outputs": [],
   "source": [
    "predict_labels=np.argmax(y_hat,axis=1)"
   ]
  },
  {
   "cell_type": "code",
   "execution_count": 26,
   "metadata": {},
   "outputs": [
    {
     "data": {
      "text/plain": [
       "array([8, 8, 2, 5, 4, 3, 7, 9, 4, 7])"
      ]
     },
     "execution_count": 26,
     "metadata": {},
     "output_type": "execute_result"
    }
   ],
   "source": [
    "import random\n",
    "start=random.randint(0,len(X_test))\n",
    "predict_labels[start:start+10]"
   ]
  },
  {
   "cell_type": "code",
   "execution_count": 27,
   "metadata": {},
   "outputs": [
    {
     "data": {
      "text/html": [
       "<div>\n",
       "<style scoped>\n",
       "    .dataframe tbody tr th:only-of-type {\n",
       "        vertical-align: middle;\n",
       "    }\n",
       "\n",
       "    .dataframe tbody tr th {\n",
       "        vertical-align: top;\n",
       "    }\n",
       "\n",
       "    .dataframe thead th {\n",
       "        text-align: right;\n",
       "    }\n",
       "</style>\n",
       "<table border=\"1\" class=\"dataframe\">\n",
       "  <thead>\n",
       "    <tr style=\"text-align: right;\">\n",
       "      <th></th>\n",
       "      <th>ImageId</th>\n",
       "      <th>Label</th>\n",
       "    </tr>\n",
       "  </thead>\n",
       "  <tbody>\n",
       "    <tr>\n",
       "      <th>27995</th>\n",
       "      <td>27996</td>\n",
       "      <td>9</td>\n",
       "    </tr>\n",
       "    <tr>\n",
       "      <th>27996</th>\n",
       "      <td>27997</td>\n",
       "      <td>7</td>\n",
       "    </tr>\n",
       "    <tr>\n",
       "      <th>27997</th>\n",
       "      <td>27998</td>\n",
       "      <td>3</td>\n",
       "    </tr>\n",
       "    <tr>\n",
       "      <th>27998</th>\n",
       "      <td>27999</td>\n",
       "      <td>9</td>\n",
       "    </tr>\n",
       "    <tr>\n",
       "      <th>27999</th>\n",
       "      <td>28000</td>\n",
       "      <td>2</td>\n",
       "    </tr>\n",
       "  </tbody>\n",
       "</table>\n",
       "</div>"
      ],
      "text/plain": [
       "       ImageId  Label\n",
       "27995    27996      9\n",
       "27996    27997      7\n",
       "27997    27998      3\n",
       "27998    27999      9\n",
       "27999    28000      2"
      ]
     },
     "execution_count": 27,
     "metadata": {},
     "output_type": "execute_result"
    }
   ],
   "source": [
    "evaluation= pd.DataFrame({'ImageId':np.arange(1,len(X_test)+1),'Label':predict_labels})\n",
    "evaluation.tail()"
   ]
  },
  {
   "cell_type": "code",
   "execution_count": 28,
   "metadata": {},
   "outputs": [],
   "source": [
    "evaluation.to_csv(\"evaluation_submission.csv\",index=False)"
   ]
  },
  {
   "cell_type": "code",
   "execution_count": null,
   "metadata": {
    "collapsed": true
   },
   "outputs": [],
   "source": []
  }
 ],
 "metadata": {
  "kernelspec": {
   "display_name": "Python 3",
   "language": "python",
   "name": "python3"
  },
  "language_info": {
   "codemirror_mode": {
    "name": "ipython",
    "version": 3
   },
   "file_extension": ".py",
   "mimetype": "text/x-python",
   "name": "python",
   "nbconvert_exporter": "python",
   "pygments_lexer": "ipython3",
   "version": "3.7.2"
  }
 },
 "nbformat": 4,
 "nbformat_minor": 2
}
